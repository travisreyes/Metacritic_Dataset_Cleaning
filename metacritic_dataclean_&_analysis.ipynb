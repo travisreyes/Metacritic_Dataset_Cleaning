{
 "cells": [
  {
   "cell_type": "markdown",
   "metadata": {},
   "source": [
    "# LIBRARIES"
   ]
  },
  {
   "cell_type": "code",
   "execution_count": 1,
   "metadata": {},
   "outputs": [],
   "source": [
    "import numpy as np\n",
    "import pandas as pd\n",
    "import matplotlib.pyplot as plt\n",
    "from sklearn import preprocessing\n",
    "import seaborn as sns\n",
    "import csv"
   ]
  },
  {
   "cell_type": "markdown",
   "metadata": {},
   "source": [
    "# - METACRITIC DATASET -"
   ]
  },
  {
   "cell_type": "markdown",
   "metadata": {},
   "source": [
    "## Original Data Frame <br><br>(game_title, genre, platforms, release_date, developer, metascore_rating)"
   ]
  },
  {
   "cell_type": "markdown",
   "metadata": {},
   "source": [
    "<font color=\"#333\" size=\"2px\"> NOTE: Data set is gathered through my own web crawler script made in Python (Data may be incomplete due to limitations in the content of metacritic.com) </font>\n",
    "#### Number of recorded titles (includes repeated data) : <font color=\"red\" size=\"2.5\"> 15,735 </font>\n",
    "#### Row Headings:\n",
    "\n",
    "- __game_title:__ Published title of video game product \n",
    "- __genre:__ Genre(s) of video game product\n",
    "- __platforms:__ Platform(s) that supports the video game product\n",
    "- __release_date:__ Date when the video game was released\n",
    "- __metascore_rating:__ Given review score by metacritic.com\n"
   ]
  },
  {
   "cell_type": "code",
   "execution_count": 2,
   "metadata": {},
   "outputs": [
    {
     "data": {
      "text/html": [
       "<div>\n",
       "<style scoped>\n",
       "    .dataframe tbody tr th:only-of-type {\n",
       "        vertical-align: middle;\n",
       "    }\n",
       "\n",
       "    .dataframe tbody tr th {\n",
       "        vertical-align: top;\n",
       "    }\n",
       "\n",
       "    .dataframe thead th {\n",
       "        text-align: right;\n",
       "    }\n",
       "</style>\n",
       "<table border=\"1\" class=\"dataframe\">\n",
       "  <thead>\n",
       "    <tr style=\"text-align: right;\">\n",
       "      <th></th>\n",
       "      <th>game_title</th>\n",
       "      <th>genre</th>\n",
       "      <th>platforms</th>\n",
       "      <th>release_date</th>\n",
       "      <th>developers</th>\n",
       "      <th>metascore_rating</th>\n",
       "    </tr>\n",
       "  </thead>\n",
       "  <tbody>\n",
       "    <tr>\n",
       "      <th>0</th>\n",
       "      <td>Journey</td>\n",
       "      <td>Action|Platformer|3D</td>\n",
       "      <td>PlayStation 4|PC|PlayStation 3</td>\n",
       "      <td>Jul 21 2015</td>\n",
       "      <td>Tricky Pixels</td>\n",
       "      <td>92</td>\n",
       "    </tr>\n",
       "    <tr>\n",
       "      <th>1</th>\n",
       "      <td>Celeste</td>\n",
       "      <td>Action|Platformer|2D</td>\n",
       "      <td>PlayStation 4|iPhone/iPad|PC|Switch|Xbox One</td>\n",
       "      <td>Jan 25 2018</td>\n",
       "      <td>Matt Makes Games Inc.</td>\n",
       "      <td>91</td>\n",
       "    </tr>\n",
       "    <tr>\n",
       "      <th>2</th>\n",
       "      <td>INSIDE</td>\n",
       "      <td>Action|Platformer|2D</td>\n",
       "      <td>PlayStation 4|iPhone/iPad|PC|Switch|Xbox One</td>\n",
       "      <td>Aug 23 2016</td>\n",
       "      <td>PLAYDEAD</td>\n",
       "      <td>91</td>\n",
       "    </tr>\n",
       "    <tr>\n",
       "      <th>3</th>\n",
       "      <td>Overwatch</td>\n",
       "      <td>Tactical|Shooter|Action|First-Person</td>\n",
       "      <td>PlayStation 4|PC|Xbox One</td>\n",
       "      <td>May 23 2016</td>\n",
       "      <td>Blizzard Entertainment</td>\n",
       "      <td>90</td>\n",
       "    </tr>\n",
       "    <tr>\n",
       "      <th>4</th>\n",
       "      <td>Shovel Knight</td>\n",
       "      <td>Action|Platformer|2D</td>\n",
       "      <td>PlayStation 4|3DS|PC|PlayStation 3|PlayStation...</td>\n",
       "      <td>Apr 21 2015</td>\n",
       "      <td>Yacht Club Games</td>\n",
       "      <td>90</td>\n",
       "    </tr>\n",
       "    <tr>\n",
       "      <th>5</th>\n",
       "      <td>Rayman Legends</td>\n",
       "      <td>Action|Platformer|2D</td>\n",
       "      <td>PlayStation 4|PC|PlayStation 3|PlayStation Vit...</td>\n",
       "      <td>Feb 18 2014</td>\n",
       "      <td>Ubisoft Montpellier</td>\n",
       "      <td>90</td>\n",
       "    </tr>\n",
       "    <tr>\n",
       "      <th>6</th>\n",
       "      <td>Fez</td>\n",
       "      <td>Action|Platformer|2D</td>\n",
       "      <td>PlayStation 4|iPhone/iPad|PC|PlayStation 3|Pla...</td>\n",
       "      <td>Mar 25 2014</td>\n",
       "      <td>Polytron Corp.</td>\n",
       "      <td>90</td>\n",
       "    </tr>\n",
       "    <tr>\n",
       "      <th>7</th>\n",
       "      <td>Rez Infinite</td>\n",
       "      <td>Shooter|Action|Rail</td>\n",
       "      <td>PlayStation 4|PC</td>\n",
       "      <td>Oct 13 2016</td>\n",
       "      <td>Q Entertainment| Monstars Inc.| Enhance Games</td>\n",
       "      <td>89</td>\n",
       "    </tr>\n",
       "    <tr>\n",
       "      <th>8</th>\n",
       "      <td>Titanfall 2</td>\n",
       "      <td>Shooter|Action|Arcade|First-Person</td>\n",
       "      <td>PlayStation 4|PC|Xbox One</td>\n",
       "      <td>Oct 28 2016</td>\n",
       "      <td>Respawn Entertainment</td>\n",
       "      <td>89</td>\n",
       "    </tr>\n",
       "    <tr>\n",
       "      <th>9</th>\n",
       "      <td>Apex Legends</td>\n",
       "      <td>Tactical|Shooter|Action|First-Person</td>\n",
       "      <td>PlayStation 4|PC|Xbox One</td>\n",
       "      <td>Feb  4 2019</td>\n",
       "      <td>Respawn Entertainment</td>\n",
       "      <td>89</td>\n",
       "    </tr>\n",
       "  </tbody>\n",
       "</table>\n",
       "</div>"
      ],
      "text/plain": [
       "       game_title                                 genre  \\\n",
       "0         Journey                  Action|Platformer|3D   \n",
       "1         Celeste                  Action|Platformer|2D   \n",
       "2          INSIDE                  Action|Platformer|2D   \n",
       "3       Overwatch  Tactical|Shooter|Action|First-Person   \n",
       "4   Shovel Knight                  Action|Platformer|2D   \n",
       "5  Rayman Legends                  Action|Platformer|2D   \n",
       "6             Fez                  Action|Platformer|2D   \n",
       "7    Rez Infinite                   Shooter|Action|Rail   \n",
       "8     Titanfall 2    Shooter|Action|Arcade|First-Person   \n",
       "9    Apex Legends  Tactical|Shooter|Action|First-Person   \n",
       "\n",
       "                                           platforms  release_date  \\\n",
       "0                     PlayStation 4|PC|PlayStation 3   Jul 21 2015   \n",
       "1       PlayStation 4|iPhone/iPad|PC|Switch|Xbox One   Jan 25 2018   \n",
       "2       PlayStation 4|iPhone/iPad|PC|Switch|Xbox One   Aug 23 2016   \n",
       "3                          PlayStation 4|PC|Xbox One   May 23 2016   \n",
       "4  PlayStation 4|3DS|PC|PlayStation 3|PlayStation...   Apr 21 2015   \n",
       "5  PlayStation 4|PC|PlayStation 3|PlayStation Vit...   Feb 18 2014   \n",
       "6  PlayStation 4|iPhone/iPad|PC|PlayStation 3|Pla...   Mar 25 2014   \n",
       "7                                   PlayStation 4|PC   Oct 13 2016   \n",
       "8                          PlayStation 4|PC|Xbox One   Oct 28 2016   \n",
       "9                          PlayStation 4|PC|Xbox One   Feb  4 2019   \n",
       "\n",
       "                                      developers  metascore_rating  \n",
       "0                                  Tricky Pixels                92  \n",
       "1                          Matt Makes Games Inc.                91  \n",
       "2                                       PLAYDEAD                91  \n",
       "3                         Blizzard Entertainment                90  \n",
       "4                               Yacht Club Games                90  \n",
       "5                            Ubisoft Montpellier                90  \n",
       "6                                 Polytron Corp.                90  \n",
       "7  Q Entertainment| Monstars Inc.| Enhance Games                89  \n",
       "8                          Respawn Entertainment                89  \n",
       "9                          Respawn Entertainment                89  "
      ]
     },
     "execution_count": 2,
     "metadata": {},
     "output_type": "execute_result"
    }
   ],
   "source": [
    "metacritic_df = pd.read_csv(\"metacritic_dataset.csv\")\n",
    "\n",
    "# Preview of first 10 rows\n",
    "metacritic_df.head(10)"
   ]
  },
  {
   "cell_type": "markdown",
   "metadata": {},
   "source": [
    "## Data Frame with grouped by \"game_title\"\n",
    "- __Unique Game Title Count:__ <font color = red> 9280</font> "
   ]
  },
  {
   "cell_type": "markdown",
   "metadata": {},
   "source": [
    "#### Average metascore rating across different platforms"
   ]
  },
  {
   "cell_type": "code",
   "execution_count": 3,
   "metadata": {},
   "outputs": [],
   "source": [
    "average_rating_sf = metacritic_df.groupby('game_title')['metascore_rating'].apply(np.mean)\n",
    "\n",
    "# 'rating' series frame to data frame\n",
    "average_rating_df = pd.DataFrame({'game_title':average_rating_sf.index, 'average_metascore_ratings':average_rating_sf.values.round(decimals = 2)})"
   ]
  },
  {
   "cell_type": "markdown",
   "metadata": {},
   "source": [
    "#### Grouped Data Frame with Avg. metascore ratings"
   ]
  },
  {
   "cell_type": "code",
   "execution_count": 4,
   "metadata": {},
   "outputs": [
    {
     "data": {
      "text/html": [
       "<div>\n",
       "<style scoped>\n",
       "    .dataframe tbody tr th:only-of-type {\n",
       "        vertical-align: middle;\n",
       "    }\n",
       "\n",
       "    .dataframe tbody tr th {\n",
       "        vertical-align: top;\n",
       "    }\n",
       "\n",
       "    .dataframe thead th {\n",
       "        text-align: right;\n",
       "    }\n",
       "</style>\n",
       "<table border=\"1\" class=\"dataframe\">\n",
       "  <thead>\n",
       "    <tr style=\"text-align: right;\">\n",
       "      <th></th>\n",
       "      <th>game_title</th>\n",
       "      <th>genre</th>\n",
       "      <th>platforms</th>\n",
       "      <th>release_date</th>\n",
       "      <th>developers</th>\n",
       "      <th>average_metascore_ratings</th>\n",
       "    </tr>\n",
       "  </thead>\n",
       "  <tbody>\n",
       "    <tr>\n",
       "      <th>1851</th>\n",
       "      <td>Super Mario Odyssey</td>\n",
       "      <td>Action|3D|Platformer</td>\n",
       "      <td>Switch</td>\n",
       "      <td>Oct 27 2017</td>\n",
       "      <td>Nintendo</td>\n",
       "      <td>97.0</td>\n",
       "    </tr>\n",
       "    <tr>\n",
       "      <th>2283</th>\n",
       "      <td>The Orange Box</td>\n",
       "      <td>Miscellaneous|Shooter|Action|Sci-Fi|First-Pers...</td>\n",
       "      <td>PC|PlayStation 3|Xbox 360</td>\n",
       "      <td>Oct 10 2007</td>\n",
       "      <td>Valve Software</td>\n",
       "      <td>96.0</td>\n",
       "    </tr>\n",
       "    <tr>\n",
       "      <th>2284</th>\n",
       "      <td>Half-Life</td>\n",
       "      <td>Arcade|Shooter|Sci-Fi|First-Person|Action</td>\n",
       "      <td>PC|PlayStation 2</td>\n",
       "      <td>Nov 19 1998</td>\n",
       "      <td>Valve Software</td>\n",
       "      <td>96.0</td>\n",
       "    </tr>\n",
       "    <tr>\n",
       "      <th>2282</th>\n",
       "      <td>Half-Life 2</td>\n",
       "      <td>Arcade|Shooter|Sci-Fi|First-Person|Action</td>\n",
       "      <td>PC</td>\n",
       "      <td>Nov 16 2004</td>\n",
       "      <td>Valve Software</td>\n",
       "      <td>96.0</td>\n",
       "    </tr>\n",
       "    <tr>\n",
       "      <th>6896</th>\n",
       "      <td>Super QuickHook</td>\n",
       "      <td>General|Platformer|Action|2D|Adventure</td>\n",
       "      <td>iOS</td>\n",
       "      <td>Jun 17 2010</td>\n",
       "      <td>Rocketcat Games</td>\n",
       "      <td>96.0</td>\n",
       "    </tr>\n",
       "    <tr>\n",
       "      <th>5453</th>\n",
       "      <td>Out of the Park Baseball 2007</td>\n",
       "      <td>Sports|Traditional|Baseball|Sim|Management|Team</td>\n",
       "      <td>PC</td>\n",
       "      <td>Mar 23 2006</td>\n",
       "      <td>Sports Interactive</td>\n",
       "      <td>96.0</td>\n",
       "    </tr>\n",
       "    <tr>\n",
       "      <th>8934</th>\n",
       "      <td>The World Ends with You: Solo Remix for iPad</td>\n",
       "      <td>General|Role-Playing</td>\n",
       "      <td>iOS</td>\n",
       "      <td>Aug 27 2012</td>\n",
       "      <td>h.a.n.d. Inc.</td>\n",
       "      <td>95.0</td>\n",
       "    </tr>\n",
       "    <tr>\n",
       "      <th>4799</th>\n",
       "      <td>Baldur's Gate II: Shadows of Amn</td>\n",
       "      <td>Role-Playing|Western-Style|PC-style RPG</td>\n",
       "      <td>PC</td>\n",
       "      <td>Sep 24 2000</td>\n",
       "      <td>BioWare</td>\n",
       "      <td>95.0</td>\n",
       "    </tr>\n",
       "    <tr>\n",
       "      <th>2286</th>\n",
       "      <td>Portal 2</td>\n",
       "      <td>Arcade|Shooter|Sci-Fi|First-Person|Action</td>\n",
       "      <td>PC|PlayStation 3|Xbox 360</td>\n",
       "      <td>Apr 18 2011</td>\n",
       "      <td>Valve Software</td>\n",
       "      <td>95.0</td>\n",
       "    </tr>\n",
       "    <tr>\n",
       "      <th>6897</th>\n",
       "      <td>Super Stickman Golf 3</td>\n",
       "      <td>Sports|General|Golf|Action|Individual|Arcade</td>\n",
       "      <td>iOS</td>\n",
       "      <td>Jul  7 2016</td>\n",
       "      <td>Noodlecake Studios</td>\n",
       "      <td>95.0</td>\n",
       "    </tr>\n",
       "  </tbody>\n",
       "</table>\n",
       "</div>"
      ],
      "text/plain": [
       "                                        game_title  \\\n",
       "1851                           Super Mario Odyssey   \n",
       "2283                                The Orange Box   \n",
       "2284                                     Half-Life   \n",
       "2282                                   Half-Life 2   \n",
       "6896                               Super QuickHook   \n",
       "5453                 Out of the Park Baseball 2007   \n",
       "8934  The World Ends with You: Solo Remix for iPad   \n",
       "4799              Baldur's Gate II: Shadows of Amn   \n",
       "2286                                      Portal 2   \n",
       "6897                         Super Stickman Golf 3   \n",
       "\n",
       "                                                  genre  \\\n",
       "1851                               Action|3D|Platformer   \n",
       "2283  Miscellaneous|Shooter|Action|Sci-Fi|First-Pers...   \n",
       "2284          Arcade|Shooter|Sci-Fi|First-Person|Action   \n",
       "2282          Arcade|Shooter|Sci-Fi|First-Person|Action   \n",
       "6896             General|Platformer|Action|2D|Adventure   \n",
       "5453    Sports|Traditional|Baseball|Sim|Management|Team   \n",
       "8934                               General|Role-Playing   \n",
       "4799            Role-Playing|Western-Style|PC-style RPG   \n",
       "2286          Arcade|Shooter|Sci-Fi|First-Person|Action   \n",
       "6897       Sports|General|Golf|Action|Individual|Arcade   \n",
       "\n",
       "                      platforms  release_date          developers  \\\n",
       "1851                     Switch   Oct 27 2017            Nintendo   \n",
       "2283  PC|PlayStation 3|Xbox 360   Oct 10 2007      Valve Software   \n",
       "2284           PC|PlayStation 2   Nov 19 1998      Valve Software   \n",
       "2282                         PC   Nov 16 2004      Valve Software   \n",
       "6896                        iOS   Jun 17 2010     Rocketcat Games   \n",
       "5453                         PC   Mar 23 2006  Sports Interactive   \n",
       "8934                        iOS   Aug 27 2012       h.a.n.d. Inc.   \n",
       "4799                         PC   Sep 24 2000             BioWare   \n",
       "2286  PC|PlayStation 3|Xbox 360   Apr 18 2011      Valve Software   \n",
       "6897                        iOS   Jul  7 2016  Noodlecake Studios   \n",
       "\n",
       "      average_metascore_ratings  \n",
       "1851                       97.0  \n",
       "2283                       96.0  \n",
       "2284                       96.0  \n",
       "2282                       96.0  \n",
       "6896                       96.0  \n",
       "5453                       96.0  \n",
       "8934                       95.0  \n",
       "4799                       95.0  \n",
       "2286                       95.0  \n",
       "6897                       95.0  "
      ]
     },
     "execution_count": 4,
     "metadata": {},
     "output_type": "execute_result"
    }
   ],
   "source": [
    "# Data frame that removes any duplicate values in \"game_title\" row\n",
    "unique_titles_df = metacritic_df.drop_duplicates(subset=['game_title'])\n",
    "\n",
    "# Merge unique_titles_df with rating\n",
    "unique_metacritic_df = unique_titles_df.drop('metascore_rating', axis=1).merge(average_rating_df, on=\"game_title\")\n",
    "\n",
    "# Preview of first 10 rows sorted by average_metascore_ratings\n",
    "unique_metacritic_df.sort_values(by='average_metascore_ratings', ascending = False).head(10)"
   ]
  },
  {
   "cell_type": "markdown",
   "metadata": {},
   "source": [
    "# - METACRITIC DATASET W/ ORGANIZED DATES - "
   ]
  },
  {
   "cell_type": "markdown",
   "metadata": {},
   "source": [
    "## Function for splitting date information"
   ]
  },
  {
   "cell_type": "code",
   "execution_count": 5,
   "metadata": {},
   "outputs": [],
   "source": [
    "#Data placeholders\n",
    "years = []\n",
    "months = []\n",
    "days = []\n",
    "\n",
    "#Date Function\n",
    "def split_date(date_array):\n",
    "    #nested function for years:\n",
    "    def year_to_int(year):\n",
    "        try:\n",
    "            return int(year)\n",
    "        except:\n",
    "            return 0\n",
    "    \n",
    "    #nested function for months\n",
    "    def month_to_int(month):\n",
    "        if month==\"Jan\":\n",
    "            return 1\n",
    "        elif month==\"Feb\":\n",
    "            return 2\n",
    "        elif month==\"Mar\":\n",
    "            return 3\n",
    "        elif month==\"Apr\":\n",
    "            return 4\n",
    "        elif month==\"May\":\n",
    "            return 5\n",
    "        elif month==\"Jun\":\n",
    "            return 6\n",
    "        elif month==\"Jul\":\n",
    "            return 7\n",
    "        elif month==\"Aug\":\n",
    "            return 8\n",
    "        elif month==\"Sep\":\n",
    "            return 9\n",
    "        elif month==\"Oct\":\n",
    "            return 10\n",
    "        elif month==\"Nov\":\n",
    "            return 11\n",
    "        elif month==\"Dec\":\n",
    "            return 12\n",
    "        else:\n",
    "            return 0\n",
    "        \n",
    "    #nested function for days\n",
    "    def date_to_int(day):\n",
    "        try:\n",
    "            if day[1] == \" \":\n",
    "                return int(day[0])\n",
    "            else:\n",
    "                return int(day[:2])\n",
    "        except:\n",
    "            return 0\n",
    "    \n",
    "    for date in date_array:\n",
    "        years.append(year_to_int(date[-4:]))\n",
    "        months.append(month_to_int(date[:3]))\n",
    "        days.append(date_to_int(date[4:]))\n",
    "        \n",
    "split_date(list(unique_metacritic_df[' release_date']))"
   ]
  },
  {
   "cell_type": "markdown",
   "metadata": {},
   "source": [
    "## Updated Metacritic Dataset"
   ]
  },
  {
   "cell_type": "code",
   "execution_count": 6,
   "metadata": {},
   "outputs": [],
   "source": [
    "#Creates a copy of the dataset inorder for the original to be unchanged\n",
    "updated_metacritic_df = unique_metacritic_df.copy()\n",
    "\n",
    "#Replaces release_date with three new columns (release_year, release_month, release_day)\n",
    "updated_metacritic_df = updated_metacritic_df.drop([\" release_date\"],axis=1)\n",
    "updated_metacritic_df.insert(4,\"release_year\",years)\n",
    "updated_metacritic_df.insert(5,\"release_month\",months)\n",
    "updated_metacritic_df.insert(6,\"release_day\",days)"
   ]
  },
  {
   "cell_type": "code",
   "execution_count": 7,
   "metadata": {
    "scrolled": false
   },
   "outputs": [
    {
     "data": {
      "text/html": [
       "<div>\n",
       "<style scoped>\n",
       "    .dataframe tbody tr th:only-of-type {\n",
       "        vertical-align: middle;\n",
       "    }\n",
       "\n",
       "    .dataframe tbody tr th {\n",
       "        vertical-align: top;\n",
       "    }\n",
       "\n",
       "    .dataframe thead th {\n",
       "        text-align: right;\n",
       "    }\n",
       "</style>\n",
       "<table border=\"1\" class=\"dataframe\">\n",
       "  <thead>\n",
       "    <tr style=\"text-align: right;\">\n",
       "      <th></th>\n",
       "      <th>game_title</th>\n",
       "      <th>genre</th>\n",
       "      <th>platforms</th>\n",
       "      <th>developers</th>\n",
       "      <th>release_year</th>\n",
       "      <th>release_month</th>\n",
       "      <th>release_day</th>\n",
       "      <th>average_metascore_ratings</th>\n",
       "    </tr>\n",
       "  </thead>\n",
       "  <tbody>\n",
       "    <tr>\n",
       "      <th>1851</th>\n",
       "      <td>Super Mario Odyssey</td>\n",
       "      <td>Action|3D|Platformer</td>\n",
       "      <td>Switch</td>\n",
       "      <td>Nintendo</td>\n",
       "      <td>2017</td>\n",
       "      <td>10</td>\n",
       "      <td>27</td>\n",
       "      <td>97.0</td>\n",
       "    </tr>\n",
       "    <tr>\n",
       "      <th>2283</th>\n",
       "      <td>The Orange Box</td>\n",
       "      <td>Miscellaneous|Shooter|Action|Sci-Fi|First-Pers...</td>\n",
       "      <td>PC|PlayStation 3|Xbox 360</td>\n",
       "      <td>Valve Software</td>\n",
       "      <td>2007</td>\n",
       "      <td>10</td>\n",
       "      <td>10</td>\n",
       "      <td>96.0</td>\n",
       "    </tr>\n",
       "    <tr>\n",
       "      <th>2284</th>\n",
       "      <td>Half-Life</td>\n",
       "      <td>Arcade|Shooter|Sci-Fi|First-Person|Action</td>\n",
       "      <td>PC|PlayStation 2</td>\n",
       "      <td>Valve Software</td>\n",
       "      <td>1998</td>\n",
       "      <td>11</td>\n",
       "      <td>19</td>\n",
       "      <td>96.0</td>\n",
       "    </tr>\n",
       "    <tr>\n",
       "      <th>2282</th>\n",
       "      <td>Half-Life 2</td>\n",
       "      <td>Arcade|Shooter|Sci-Fi|First-Person|Action</td>\n",
       "      <td>PC</td>\n",
       "      <td>Valve Software</td>\n",
       "      <td>2004</td>\n",
       "      <td>11</td>\n",
       "      <td>16</td>\n",
       "      <td>96.0</td>\n",
       "    </tr>\n",
       "    <tr>\n",
       "      <th>6896</th>\n",
       "      <td>Super QuickHook</td>\n",
       "      <td>General|Platformer|Action|2D|Adventure</td>\n",
       "      <td>iOS</td>\n",
       "      <td>Rocketcat Games</td>\n",
       "      <td>2010</td>\n",
       "      <td>6</td>\n",
       "      <td>17</td>\n",
       "      <td>96.0</td>\n",
       "    </tr>\n",
       "    <tr>\n",
       "      <th>5453</th>\n",
       "      <td>Out of the Park Baseball 2007</td>\n",
       "      <td>Sports|Traditional|Baseball|Sim|Management|Team</td>\n",
       "      <td>PC</td>\n",
       "      <td>Sports Interactive</td>\n",
       "      <td>2006</td>\n",
       "      <td>3</td>\n",
       "      <td>23</td>\n",
       "      <td>96.0</td>\n",
       "    </tr>\n",
       "    <tr>\n",
       "      <th>8934</th>\n",
       "      <td>The World Ends with You: Solo Remix for iPad</td>\n",
       "      <td>General|Role-Playing</td>\n",
       "      <td>iOS</td>\n",
       "      <td>h.a.n.d. Inc.</td>\n",
       "      <td>2012</td>\n",
       "      <td>8</td>\n",
       "      <td>27</td>\n",
       "      <td>95.0</td>\n",
       "    </tr>\n",
       "    <tr>\n",
       "      <th>4799</th>\n",
       "      <td>Baldur's Gate II: Shadows of Amn</td>\n",
       "      <td>Role-Playing|Western-Style|PC-style RPG</td>\n",
       "      <td>PC</td>\n",
       "      <td>BioWare</td>\n",
       "      <td>2000</td>\n",
       "      <td>9</td>\n",
       "      <td>24</td>\n",
       "      <td>95.0</td>\n",
       "    </tr>\n",
       "    <tr>\n",
       "      <th>2286</th>\n",
       "      <td>Portal 2</td>\n",
       "      <td>Arcade|Shooter|Sci-Fi|First-Person|Action</td>\n",
       "      <td>PC|PlayStation 3|Xbox 360</td>\n",
       "      <td>Valve Software</td>\n",
       "      <td>2011</td>\n",
       "      <td>4</td>\n",
       "      <td>18</td>\n",
       "      <td>95.0</td>\n",
       "    </tr>\n",
       "    <tr>\n",
       "      <th>6897</th>\n",
       "      <td>Super Stickman Golf 3</td>\n",
       "      <td>Sports|General|Golf|Action|Individual|Arcade</td>\n",
       "      <td>iOS</td>\n",
       "      <td>Noodlecake Studios</td>\n",
       "      <td>2016</td>\n",
       "      <td>7</td>\n",
       "      <td>7</td>\n",
       "      <td>95.0</td>\n",
       "    </tr>\n",
       "  </tbody>\n",
       "</table>\n",
       "</div>"
      ],
      "text/plain": [
       "                                        game_title  \\\n",
       "1851                           Super Mario Odyssey   \n",
       "2283                                The Orange Box   \n",
       "2284                                     Half-Life   \n",
       "2282                                   Half-Life 2   \n",
       "6896                               Super QuickHook   \n",
       "5453                 Out of the Park Baseball 2007   \n",
       "8934  The World Ends with You: Solo Remix for iPad   \n",
       "4799              Baldur's Gate II: Shadows of Amn   \n",
       "2286                                      Portal 2   \n",
       "6897                         Super Stickman Golf 3   \n",
       "\n",
       "                                                  genre  \\\n",
       "1851                               Action|3D|Platformer   \n",
       "2283  Miscellaneous|Shooter|Action|Sci-Fi|First-Pers...   \n",
       "2284          Arcade|Shooter|Sci-Fi|First-Person|Action   \n",
       "2282          Arcade|Shooter|Sci-Fi|First-Person|Action   \n",
       "6896             General|Platformer|Action|2D|Adventure   \n",
       "5453    Sports|Traditional|Baseball|Sim|Management|Team   \n",
       "8934                               General|Role-Playing   \n",
       "4799            Role-Playing|Western-Style|PC-style RPG   \n",
       "2286          Arcade|Shooter|Sci-Fi|First-Person|Action   \n",
       "6897       Sports|General|Golf|Action|Individual|Arcade   \n",
       "\n",
       "                      platforms          developers  release_year  \\\n",
       "1851                     Switch            Nintendo          2017   \n",
       "2283  PC|PlayStation 3|Xbox 360      Valve Software          2007   \n",
       "2284           PC|PlayStation 2      Valve Software          1998   \n",
       "2282                         PC      Valve Software          2004   \n",
       "6896                        iOS     Rocketcat Games          2010   \n",
       "5453                         PC  Sports Interactive          2006   \n",
       "8934                        iOS       h.a.n.d. Inc.          2012   \n",
       "4799                         PC             BioWare          2000   \n",
       "2286  PC|PlayStation 3|Xbox 360      Valve Software          2011   \n",
       "6897                        iOS  Noodlecake Studios          2016   \n",
       "\n",
       "      release_month  release_day  average_metascore_ratings  \n",
       "1851             10           27                       97.0  \n",
       "2283             10           10                       96.0  \n",
       "2284             11           19                       96.0  \n",
       "2282             11           16                       96.0  \n",
       "6896              6           17                       96.0  \n",
       "5453              3           23                       96.0  \n",
       "8934              8           27                       95.0  \n",
       "4799              9           24                       95.0  \n",
       "2286              4           18                       95.0  \n",
       "6897              7            7                       95.0  "
      ]
     },
     "execution_count": 7,
     "metadata": {},
     "output_type": "execute_result"
    }
   ],
   "source": [
    "# Preview of first 10 rows\n",
    "updated_metacritic_df.sort_values(by='average_metascore_ratings', ascending = False).head(10)"
   ]
  },
  {
   "cell_type": "code",
   "execution_count": 8,
   "metadata": {},
   "outputs": [],
   "source": [
    "# Remove '#' to create csv file\n",
    "\n",
    "# updated_metacritic_df.to_csv(\"updated_metacritic_dataset.csv\")"
   ]
  },
  {
   "cell_type": "markdown",
   "metadata": {},
   "source": [
    "   # - METACRITIC DATASET W/ LISTS (genre, platforms, developers) -"
   ]
  },
  {
   "cell_type": "markdown",
   "metadata": {},
   "source": [
    "## Function for converting string data to lists"
   ]
  },
  {
   "cell_type": "code",
   "execution_count": 9,
   "metadata": {},
   "outputs": [],
   "source": [
    "# Return a new list\n",
    "def str_to_lst(data_array):\n",
    "    column = []\n",
    "    for item in data_array:\n",
    "        lst = []\n",
    "        data = item + \"|\"\n",
    "        start = 0\n",
    "        end = 0\n",
    "        for letter in data:\n",
    "            if letter != \"|\":\n",
    "                end += 1\n",
    "            else:\n",
    "                lst = lst + [data[start:end]]\n",
    "                start = end + 1\n",
    "                end += 1\n",
    "        column = column + [lst]\n",
    "    return column        "
   ]
  },
  {
   "cell_type": "markdown",
   "metadata": {},
   "source": [
    "## New Column Data Sets"
   ]
  },
  {
   "cell_type": "code",
   "execution_count": 10,
   "metadata": {},
   "outputs": [],
   "source": [
    "new_genre = str_to_lst((updated_metacritic_df[' genre']))\n",
    "new_platforms = str_to_lst((updated_metacritic_df[' platforms']))\n",
    "new_developers = str_to_lst([str(i) for i in updated_metacritic_df[' developers']])"
   ]
  },
  {
   "cell_type": "markdown",
   "metadata": {},
   "source": [
    "## - Updated Metacritic Dataset V2 - "
   ]
  },
  {
   "cell_type": "code",
   "execution_count": 11,
   "metadata": {},
   "outputs": [
    {
     "data": {
      "text/html": [
       "<div>\n",
       "<style scoped>\n",
       "    .dataframe tbody tr th:only-of-type {\n",
       "        vertical-align: middle;\n",
       "    }\n",
       "\n",
       "    .dataframe tbody tr th {\n",
       "        vertical-align: top;\n",
       "    }\n",
       "\n",
       "    .dataframe thead th {\n",
       "        text-align: right;\n",
       "    }\n",
       "</style>\n",
       "<table border=\"1\" class=\"dataframe\">\n",
       "  <thead>\n",
       "    <tr style=\"text-align: right;\">\n",
       "      <th></th>\n",
       "      <th>game_title</th>\n",
       "      <th>genre</th>\n",
       "      <th>platforms</th>\n",
       "      <th>developers</th>\n",
       "      <th>release_year</th>\n",
       "      <th>release_month</th>\n",
       "      <th>release_day</th>\n",
       "      <th>average_metascore_ratings</th>\n",
       "    </tr>\n",
       "  </thead>\n",
       "  <tbody>\n",
       "    <tr>\n",
       "      <th>0</th>\n",
       "      <td>Journey</td>\n",
       "      <td>[Action, Platformer, 3D]</td>\n",
       "      <td>[PlayStation 4, PC, PlayStation 3]</td>\n",
       "      <td>[Tricky Pixels]</td>\n",
       "      <td>2015</td>\n",
       "      <td>7</td>\n",
       "      <td>21</td>\n",
       "      <td>92.00</td>\n",
       "    </tr>\n",
       "    <tr>\n",
       "      <th>1</th>\n",
       "      <td>Celeste</td>\n",
       "      <td>[Action, Platformer, 2D]</td>\n",
       "      <td>[PlayStation 4, iPhone/iPad, PC, Switch, Xbox ...</td>\n",
       "      <td>[Matt Makes Games Inc.]</td>\n",
       "      <td>2018</td>\n",
       "      <td>1</td>\n",
       "      <td>25</td>\n",
       "      <td>91.25</td>\n",
       "    </tr>\n",
       "    <tr>\n",
       "      <th>2</th>\n",
       "      <td>INSIDE</td>\n",
       "      <td>[Action, Platformer, 2D]</td>\n",
       "      <td>[PlayStation 4, iPhone/iPad, PC, Switch, Xbox ...</td>\n",
       "      <td>[PLAYDEAD]</td>\n",
       "      <td>2016</td>\n",
       "      <td>8</td>\n",
       "      <td>23</td>\n",
       "      <td>90.50</td>\n",
       "    </tr>\n",
       "    <tr>\n",
       "      <th>3</th>\n",
       "      <td>Overwatch</td>\n",
       "      <td>[Tactical, Shooter, Action, First-Person]</td>\n",
       "      <td>[PlayStation 4, PC, Xbox One]</td>\n",
       "      <td>[Blizzard Entertainment]</td>\n",
       "      <td>2016</td>\n",
       "      <td>5</td>\n",
       "      <td>23</td>\n",
       "      <td>90.67</td>\n",
       "    </tr>\n",
       "    <tr>\n",
       "      <th>4</th>\n",
       "      <td>Shovel Knight</td>\n",
       "      <td>[Action, Platformer, 2D]</td>\n",
       "      <td>[PlayStation 4, 3DS, PC, PlayStation 3, PlaySt...</td>\n",
       "      <td>[Yacht Club Games]</td>\n",
       "      <td>2015</td>\n",
       "      <td>4</td>\n",
       "      <td>21</td>\n",
       "      <td>88.22</td>\n",
       "    </tr>\n",
       "    <tr>\n",
       "      <th>5</th>\n",
       "      <td>Rayman Legends</td>\n",
       "      <td>[Action, Platformer, 2D]</td>\n",
       "      <td>[PlayStation 4, PC, PlayStation 3, PlayStation...</td>\n",
       "      <td>[Ubisoft Montpellier]</td>\n",
       "      <td>2014</td>\n",
       "      <td>2</td>\n",
       "      <td>18</td>\n",
       "      <td>89.80</td>\n",
       "    </tr>\n",
       "    <tr>\n",
       "      <th>6</th>\n",
       "      <td>Fez</td>\n",
       "      <td>[Action, Platformer, 2D]</td>\n",
       "      <td>[PlayStation 4, iPhone/iPad, PC, PlayStation 3...</td>\n",
       "      <td>[Polytron Corp.]</td>\n",
       "      <td>2014</td>\n",
       "      <td>3</td>\n",
       "      <td>25</td>\n",
       "      <td>90.67</td>\n",
       "    </tr>\n",
       "    <tr>\n",
       "      <th>7</th>\n",
       "      <td>Rez Infinite</td>\n",
       "      <td>[Shooter, Action, Rail]</td>\n",
       "      <td>[PlayStation 4, PC]</td>\n",
       "      <td>[Q Entertainment,  Monstars Inc.,  Enhance Games]</td>\n",
       "      <td>2016</td>\n",
       "      <td>10</td>\n",
       "      <td>13</td>\n",
       "      <td>89.00</td>\n",
       "    </tr>\n",
       "    <tr>\n",
       "      <th>8</th>\n",
       "      <td>Titanfall 2</td>\n",
       "      <td>[Shooter, Action, Arcade, First-Person]</td>\n",
       "      <td>[PlayStation 4, PC, Xbox One]</td>\n",
       "      <td>[Respawn Entertainment]</td>\n",
       "      <td>2016</td>\n",
       "      <td>10</td>\n",
       "      <td>28</td>\n",
       "      <td>87.33</td>\n",
       "    </tr>\n",
       "    <tr>\n",
       "      <th>9</th>\n",
       "      <td>Apex Legends</td>\n",
       "      <td>[Tactical, Shooter, Action, First-Person]</td>\n",
       "      <td>[PlayStation 4, PC, Xbox One]</td>\n",
       "      <td>[Respawn Entertainment]</td>\n",
       "      <td>2019</td>\n",
       "      <td>2</td>\n",
       "      <td>4</td>\n",
       "      <td>88.33</td>\n",
       "    </tr>\n",
       "  </tbody>\n",
       "</table>\n",
       "</div>"
      ],
      "text/plain": [
       "       game_title                                      genre  \\\n",
       "0         Journey                   [Action, Platformer, 3D]   \n",
       "1         Celeste                   [Action, Platformer, 2D]   \n",
       "2          INSIDE                   [Action, Platformer, 2D]   \n",
       "3       Overwatch  [Tactical, Shooter, Action, First-Person]   \n",
       "4   Shovel Knight                   [Action, Platformer, 2D]   \n",
       "5  Rayman Legends                   [Action, Platformer, 2D]   \n",
       "6             Fez                   [Action, Platformer, 2D]   \n",
       "7    Rez Infinite                    [Shooter, Action, Rail]   \n",
       "8     Titanfall 2    [Shooter, Action, Arcade, First-Person]   \n",
       "9    Apex Legends  [Tactical, Shooter, Action, First-Person]   \n",
       "\n",
       "                                           platforms  \\\n",
       "0                 [PlayStation 4, PC, PlayStation 3]   \n",
       "1  [PlayStation 4, iPhone/iPad, PC, Switch, Xbox ...   \n",
       "2  [PlayStation 4, iPhone/iPad, PC, Switch, Xbox ...   \n",
       "3                      [PlayStation 4, PC, Xbox One]   \n",
       "4  [PlayStation 4, 3DS, PC, PlayStation 3, PlaySt...   \n",
       "5  [PlayStation 4, PC, PlayStation 3, PlayStation...   \n",
       "6  [PlayStation 4, iPhone/iPad, PC, PlayStation 3...   \n",
       "7                                [PlayStation 4, PC]   \n",
       "8                      [PlayStation 4, PC, Xbox One]   \n",
       "9                      [PlayStation 4, PC, Xbox One]   \n",
       "\n",
       "                                          developers  release_year  \\\n",
       "0                                    [Tricky Pixels]          2015   \n",
       "1                            [Matt Makes Games Inc.]          2018   \n",
       "2                                         [PLAYDEAD]          2016   \n",
       "3                           [Blizzard Entertainment]          2016   \n",
       "4                                 [Yacht Club Games]          2015   \n",
       "5                              [Ubisoft Montpellier]          2014   \n",
       "6                                   [Polytron Corp.]          2014   \n",
       "7  [Q Entertainment,  Monstars Inc.,  Enhance Games]          2016   \n",
       "8                            [Respawn Entertainment]          2016   \n",
       "9                            [Respawn Entertainment]          2019   \n",
       "\n",
       "   release_month  release_day  average_metascore_ratings  \n",
       "0              7           21                      92.00  \n",
       "1              1           25                      91.25  \n",
       "2              8           23                      90.50  \n",
       "3              5           23                      90.67  \n",
       "4              4           21                      88.22  \n",
       "5              2           18                      89.80  \n",
       "6              3           25                      90.67  \n",
       "7             10           13                      89.00  \n",
       "8             10           28                      87.33  \n",
       "9              2            4                      88.33  "
      ]
     },
     "execution_count": 11,
     "metadata": {},
     "output_type": "execute_result"
    }
   ],
   "source": [
    "new_updated_metacritic_df = updated_metacritic_df.copy()\n",
    "new_updated_metacritic_df[' genre'] = new_genre\n",
    "new_updated_metacritic_df[' platforms'] = new_platforms\n",
    "new_updated_metacritic_df[' developers'] = new_developers\n",
    "new_updated_metacritic_df.columns = ['game_title', 'genre', 'platforms', 'developers', 'release_year','release_month', 'release_day', 'average_metascore_ratings']\n",
    "\n",
    "# Preview of first 10 rows\n",
    "new_updated_metacritic_df.head(10)"
   ]
  },
  {
   "cell_type": "code",
   "execution_count": 12,
   "metadata": {},
   "outputs": [],
   "source": [
    "# Remove '#' to create csv file\n",
    "\n",
    "# new_updated_metacritic_df.to_csv(\"updated_metacritic_dataset_v2.csv\")"
   ]
  },
  {
   "cell_type": "markdown",
   "metadata": {},
   "source": [
    "# -METACRITIC DATASET ANALYSIS-"
   ]
  },
  {
   "cell_type": "markdown",
   "metadata": {},
   "source": [
    "### Function for taking unique items in each column"
   ]
  },
  {
   "cell_type": "code",
   "execution_count": 13,
   "metadata": {},
   "outputs": [],
   "source": [
    "def unique_items(df,title):\n",
    "    dic = {}\n",
    "    column = df[title]\n",
    "    for row in column:\n",
    "        for item in row:\n",
    "            if item not in dic:\n",
    "                dic[item] = 1\n",
    "            else:\n",
    "                dic[item] +=1\n",
    "    return  dic"
   ]
  },
  {
   "cell_type": "markdown",
   "metadata": {},
   "source": [
    "<font size=\"5\"> <strong> &#187; Video Game Titles&#171; </strong></font>"
   ]
  },
  {
   "cell_type": "markdown",
   "metadata": {},
   "source": [
    "#### Bargraph of Top 20 Highest Rated Video Game Titles"
   ]
  },
  {
   "cell_type": "code",
   "execution_count": 14,
   "metadata": {},
   "outputs": [
    {
     "data": {
      "text/plain": [
       "Text(0.5, 1.0, 'Top 20 Highest Rated Video Games (Metacritic)')"
      ]
     },
     "execution_count": 14,
     "metadata": {},
     "output_type": "execute_result"
    },
    {
     "data": {
      "image/png": "[encoded data removed]",
      "text/plain": [
       "<Figure size 432x288 with 1 Axes>"
      ]
     },
     "metadata": {},
     "output_type": "display_data"
    }
   ],
   "source": [
    "sns.set(style=\"whitegrid\")\n",
    "sns.barplot(x=\"average_metascore_ratings\", y=\"game_title\", data=new_updated_metacritic_df.sort_values(by=\"average_metascore_ratings\",ascending=False).head(20)).set_title('Top 20 Highest Rated Video Games (Metacritic)')"
   ]
  },
  {
   "cell_type": "markdown",
   "metadata": {},
   "source": [
    "<font size=\"5\"> <strong> &#187; Video Game Genres &#171;</strong></font>"
   ]
  },
  {
   "cell_type": "markdown",
   "metadata": {},
   "source": [
    "#### Popular Video Game Genres"
   ]
  },
  {
   "cell_type": "code",
   "execution_count": 15,
   "metadata": {},
   "outputs": [],
   "source": [
    "unique_genres, genre_count = list(unique_items(new_updated_metacritic_df,'genre').keys()), list(unique_items(new_updated_metacritic_df,'genre').values())\n",
    "unique_genres_df = pd.DataFrame({'genres':unique_genres, 'count':genre_count})\n",
    "\n",
    "sorted_genres_df = unique_genres_df.sort_values(by=['count'], ascending= False).head(20)"
   ]
  },
  {
   "cell_type": "markdown",
   "metadata": {},
   "source": [
    "#### Bargraph of Popular Video Game Genres"
   ]
  },
  {
   "cell_type": "code",
   "execution_count": 16,
   "metadata": {},
   "outputs": [
    {
     "data": {
      "text/plain": [
       "Text(0.5, 1.0, 'Top 20 Most Popular Video Game Genres (Metacritic)')"
      ]
     },
     "execution_count": 16,
     "metadata": {},
     "output_type": "execute_result"
    },
    {
     "data": {
      "image/png": "[encoded data removed]",
      "text/plain": [
       "<Figure size 432x288 with 1 Axes>"
      ]
     },
     "metadata": {},
     "output_type": "display_data"
    }
   ],
   "source": [
    "sns.set(style=\"whitegrid\")\n",
    "sns.barplot(x=\"count\", y=\"genres\", data=sorted_genres_df).set_title('Top 20 Most Popular Video Game Genres (Metacritic)')"
   ]
  },
  {
   "cell_type": "markdown",
   "metadata": {},
   "source": [
    "<font size=\"5\"> <strong> &#187; Video Game Platforms &#171;</strong></font>"
   ]
  },
  {
   "cell_type": "markdown",
   "metadata": {},
   "source": [
    "#### Popular Video Game Platforms"
   ]
  },
  {
   "cell_type": "code",
   "execution_count": 17,
   "metadata": {},
   "outputs": [],
   "source": [
    "unique_platforms, platform_count = list(unique_items(new_updated_metacritic_df,'platforms').keys()), list(unique_items(new_updated_metacritic_df,'platforms').values())\n",
    "unique_platforms_df = pd.DataFrame({'platforms':unique_platforms, 'count':platform_count}).sort_values(by=['count'], ascending= False)"
   ]
  },
  {
   "cell_type": "markdown",
   "metadata": {},
   "source": [
    "#### Bargraph of Popular Video Game Platforms"
   ]
  },
  {
   "cell_type": "code",
   "execution_count": 18,
   "metadata": {
    "scrolled": true
   },
   "outputs": [
    {
     "data": {
      "text/plain": [
       "Text(0.5, 1.0, 'Top Video Game Platforms (Metacritic)')"
      ]
     },
     "execution_count": 18,
     "metadata": {},
     "output_type": "execute_result"
    },
    {
     "data": {
      "image/png": "[encoded data removed]",
      "text/plain": [
       "<Figure size 432x288 with 1 Axes>"
      ]
     },
     "metadata": {},
     "output_type": "display_data"
    }
   ],
   "source": [
    "sns.set(style=\"whitegrid\")\n",
    "sns.barplot(x=\"count\", y=\"platforms\", data = unique_platforms_df).set_title('Top Video Game Platforms (Metacritic)')"
   ]
  },
  {
   "cell_type": "markdown",
   "metadata": {},
   "source": [
    "<font size=\"5\"> <strong> &#187; Video Game Developers &#171;</strong></font>"
   ]
  },
  {
   "cell_type": "markdown",
   "metadata": {},
   "source": [
    "#### Popular Video Game Developers"
   ]
  },
  {
   "cell_type": "code",
   "execution_count": 19,
   "metadata": {},
   "outputs": [],
   "source": [
    "unique_developers, developer_count = list(unique_items(new_updated_metacritic_df,'developers').keys()), list(unique_items(new_updated_metacritic_df,'developers').values())\n",
    "unique_developers_df = pd.DataFrame({'developers':unique_developers, 'count':developer_count}).sort_values(by=['count'], ascending= False).head(21)\n",
    "unique_developers_df = unique_developers_df[unique_developers_df.developers != 'nan']"
   ]
  },
  {
   "cell_type": "markdown",
   "metadata": {},
   "source": [
    "#### Bargraph of Popular Video Game Developers"
   ]
  },
  {
   "cell_type": "code",
   "execution_count": 20,
   "metadata": {
    "scrolled": true
   },
   "outputs": [
    {
     "data": {
      "text/plain": [
       "Text(0.5, 1.0, 'Top 20 Video Game Developers (Metacritic)')"
      ]
     },
     "execution_count": 20,
     "metadata": {},
     "output_type": "execute_result"
    },
    {
     "data": {
      "image/png": "[encoded data removed]",
      "text/plain": [
       "<Figure size 432x288 with 1 Axes>"
      ]
     },
     "metadata": {},
     "output_type": "display_data"
    }
   ],
   "source": [
    "sns.set(style=\"whitegrid\")\n",
    "sns.barplot(x=\"count\", y=\"developers\", data = unique_developers_df).set_title('Top 20 Video Game Developers (Metacritic)')"
   ]
  }
 ],
 "metadata": {
  "kernelspec": {
   "display_name": "Python 3",
   "language": "python",
   "name": "python3"
  },
  "language_info": {
   "codemirror_mode": {
    "name": "ipython",
    "version": 3
   },
   "file_extension": ".py",
   "mimetype": "text/x-python",
   "name": "python",
   "nbconvert_exporter": "python",
   "pygments_lexer": "ipython3",
   "version": "3.6.2"
  }
 },
 "nbformat": 4,
 "nbformat_minor": 2
}
